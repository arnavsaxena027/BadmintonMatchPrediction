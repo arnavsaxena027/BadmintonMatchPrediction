{
  "nbformat": 4,
  "nbformat_minor": 0,
  "metadata": {
    "colab": {
      "provenance": [],
      "mount_file_id": "1lKZxCH-N0cRQevDge-Dw14vmkj297RzX",
      "authorship_tag": "ABX9TyPsORvmOP+Kz4IZ2aJ10Hd4",
      "include_colab_link": true
    },
    "kernelspec": {
      "name": "python3",
      "display_name": "Python 3"
    },
    "language_info": {
      "name": "python"
    }
  },
  "cells": [
    {
      "cell_type": "markdown",
      "metadata": {
        "id": "view-in-github",
        "colab_type": "text"
      },
      "source": [
        "<a href=\"https://colab.research.google.com/github/arnavsaxena027/BadmintonMatchPrediction/blob/main/Project1(Playerprediction).ipynb\" target=\"_parent\"><img src=\"https://colab.research.google.com/assets/colab-badge.svg\" alt=\"Open In Colab\"/></a>"
      ]
    },
    {
      "cell_type": "code",
      "source": [
        "# @title Importing all the requirements (all libraries and api and frameworks)\n",
        "\n",
        "import tensorflow as tf\n",
        "#imported tensor flow\n",
        "import numpy as np\n",
        "#this is a mathematical library\n",
        "import pandas as pd\n",
        "#this is for managing our dataset\n",
        "import sklearn\n",
        "import keras\n",
        "#imported scikit-learn and Keras for the gradient boosting algorithm\n",
        "from sklearn.ensemble import GradientBoostingClassifier\n",
        "#this imports the Gradient boosting classifier\n",
        "from sklearn.metrics import accuracy_score, confusion_matrix, classification_report\n",
        "#this imports the system that measures the capacity of the model"
      ],
      "metadata": {
        "id": "ZiLecK62sPAn",
        "colab": {
          "base_uri": "https://localhost:8080/"
        },
        "outputId": "ced32a64-7b83-4159-cbba-f53d556348ac"
      },
      "execution_count": 44,
      "outputs": [
        {
          "output_type": "stream",
          "name": "stdout",
          "text": [
            "this block works\n"
          ]
        }
      ]
    },
    {
      "cell_type": "code",
      "source": [
        "# @title Importing the datasets\n",
        "import pandas as pd\n",
        "\n",
        "MenSingle = pd.read_csv(\"/content/drive/MyDrive/Badplayer/MenSingle.csv\")\n",
        "WomenSingle = pd.read_csv(\"/content/drive/MyDrive/Badplayer/WomenSingleT.csv\")\n",
        "BWFRanking = pd.read_csv(\"/content/drive/MyDrive/Badplayer/bwf_ranking.csv\")"
      ],
      "metadata": {
        "id": "xswbgUjJy5wU"
      },
      "execution_count": 45,
      "outputs": []
    },
    {
      "cell_type": "code",
      "source": [
        "# @title Convering all the data into readable form for GB\n",
        "#NOW WILL CONVERT ALL THE STRINGS TO FLOAT FOR READABLITY FOR ALGO\n",
        "from sklearn.preprocessing import LabelEncoder\n",
        "LabelEncoder_x = LabelEncoder()\n",
        "a=['city', 'country', 'tournament_type','round','retired','team_one_players','team_two_players','team_one_nationalities','team_two_nationalities', 'winner']\n",
        "for i in a:\n",
        "  MenSingle[i] = LabelEncoder_x.fit_transform(MenSingle[i])\n",
        "  WomenSingle[i] = LabelEncoder_x.fit_transform(WomenSingle[i])\n",
        "\n",
        "#NOW WE WILL MAKE SURE THE ALGO DOES'NT CONSIDER DIFFERENT FLOATS ARE DIFFERNT NUMBERS(won't assume 1>2)\n",
        "from sklearn.preprocessing import OneHotEncoder\n",
        "OneHotEncoder_z = OneHotEncoder()\n",
        "OneHotEncoder_z.fit_transform(MenSingle.city.values.reshape(-1,1)).toarray()\n",
        "OneHotEncoder_z.fit_transform(MenSingle.country.values.reshape(-1,1)).toarray()\n",
        "OneHotEncoder_z.fit_transform(MenSingle.tournament_type.values.reshape(-1,1)).toarray()\n",
        "OneHotEncoder_z.fit_transform(MenSingle.retired.values.reshape(-1,1)).toarray()\n",
        "OneHotEncoder_z.fit_transform(MenSingle.team_one_players.values.reshape(-1,1)).toarray()\n",
        "OneHotEncoder_z.fit_transform(MenSingle.team_two_players.values.reshape(-1,1)).toarray()\n",
        "OneHotEncoder_z.fit_transform(MenSingle.team_one_nationalities.values.reshape(-1,1)).toarray()\n",
        "OneHotEncoder_z.fit_transform(MenSingle.team_two_nationalities.values.reshape(-1,1)).toarray()\n",
        "\n",
        "OneHotEncoder_z.fit_transform(WomenSingle.city.values.reshape(-1,1)).toarray()\n",
        "OneHotEncoder_z.fit_transform(WomenSingle.country.values.reshape(-1,1)).toarray()\n",
        "OneHotEncoder_z.fit_transform(WomenSingle.tournament_type.values.reshape(-1,1)).toarray()\n",
        "OneHotEncoder_z.fit_transform(WomenSingle.retired.values.reshape(-1,1)).toarray()\n",
        "OneHotEncoder_z.fit_transform(WomenSingle.team_one_players.values.reshape(-1,1)).toarray()\n",
        "OneHotEncoder_z.fit_transform(WomenSingle.team_two_players.values.reshape(-1,1)).toarray()\n",
        "OneHotEncoder_z.fit_transform(WomenSingle.team_one_nationalities.values.reshape(-1,1)).toarray()\n",
        "OneHotEncoder_z.fit_transform(WomenSingle.team_two_nationalities.values.reshape(-1,1)).toarray()\n",
        "\n",
        "#changing all the cells which dont have numerical input to \"Nan\"\n",
        "MenSingle= MenSingle.apply(pd.to_numeric, errors='coerce')\n",
        "WomenSingle= WomenSingle.apply(pd.to_numeric, errors='coerce')\n",
        "\n",
        "#NOW WILL CONVERT ALL THE FACTORS IN RANGE FOR THE ALGO\n",
        "#from sklearn.preprocessing import StandardScaler\n",
        "#stsc_z = StandardScaler()\n",
        "#MenSingle = stsc_z.fit_transform(MenSingle)\n",
        "#WomenSingle = stsc_z.fit_transform(WomenSingle)\n",
        "\n",
        "\n",
        "#print(MenSingle)"
      ],
      "metadata": {
        "id": "lE2Yruqi1jBp"
      },
      "execution_count": 46,
      "outputs": []
    },
    {
      "cell_type": "code",
      "source": [
        "# @title Splitting data into dependable and indepedent variables\n",
        "from pandas.core.dtypes.missing import notnull\n",
        "# @title Splitting data into dependent and independent variables\n",
        "import pandas as pd\n",
        "\n",
        "# Split data for MenSingle\n",
        "Men_independent = MenSingle[['city', 'country', 'tournament_type', 'round', 'retired', 'team_one_players', 'team_two_players', 'team_one_nationalities', 'team_two_nationalities']].values\n",
        "Men_dependent = MenSingle[['winner']].values\n",
        "\n",
        "# Split data for WomenSingle\n",
        "Women_independent = WomenSingle[['city', 'country', 'tournament_type', 'round', 'retired', 'team_one_players', 'team_two_players', 'team_one_nationalities', 'team_two_nationalities']].values\n",
        "Women_dependent = WomenSingle[['winner']].values\n",
        "print(Men_independent)\n"
      ],
      "metadata": {
        "id": "0Gs53xGkLFPE"
      },
      "execution_count": null,
      "outputs": []
    },
    {
      "cell_type": "code",
      "source": [
        "# @title Splitting data into train and test\n",
        "#Spliting the data into train and test\n",
        "from sklearn.model_selection import train_test_split\n",
        "\n",
        "Men_independent_train, Men_independent_test, Men_dependent_train, Men_dependent_test = train_test_split(Men_independent,Men_dependent, test_size = 0.2,random_state = 0)\n",
        "Women_dependent_train, Women_dependent_test, Women_independent_train, Women_independent_test = train_test_split(Women_dependent,Women_independent, test_size = 0.2,random_state = 0)"
      ],
      "metadata": {
        "id": "u6zw8upR2HS8"
      },
      "execution_count": null,
      "outputs": []
    },
    {
      "cell_type": "markdown",
      "source": [
        "Models"
      ],
      "metadata": {
        "id": "bBXafvORy2sm"
      }
    },
    {
      "cell_type": "code",
      "source": [
        "Model1 = GradientBoostingClassifier(n_estimators=300,learning_rate=0.05,random_state=100,max_features=5)\n",
        "#Model 1 using scikit-learn\n",
        "Model1.fit(Men_independent_train, Men_dependent_train)\n",
        "prediction1 = Model1.predict(Men_independent_test)\n",
        "acc = accuracy_score(Men_dependent_test, prediction1)\n",
        "print(acc)"
      ],
      "metadata": {
        "id": "u3EIVlrYxMP5",
        "colab": {
          "base_uri": "https://localhost:8080/"
        },
        "outputId": "3ffb9165-e152-459d-a3bb-2ea7b2a276de"
      },
      "execution_count": 60,
      "outputs": [
        {
          "output_type": "stream",
          "name": "stderr",
          "text": [
            "/usr/local/lib/python3.10/dist-packages/sklearn/ensemble/_gb.py:437: DataConversionWarning: A column-vector y was passed when a 1d array was expected. Please change the shape of y to (n_samples, ), for example using ravel().\n",
            "  y = column_or_1d(y, warn=True)\n"
          ]
        },
        {
          "output_type": "stream",
          "name": "stdout",
          "text": [
            "0.6321381142098274\n"
          ]
        }
      ]
    },
    {
      "cell_type": "code",
      "source": [
        "from sklearn.metrics import accuracy_score, confusion_matrix, classification_report\n",
        "from sklearn.ensemble import RandomForestClassifier\n",
        "model_RF = RandomForestClassifier(n_estimators = 64, random_state = 2, max_depth = None, min_samples_split = 2, min_samples_leaf= 1)\n",
        "\n",
        "model_RF.fit(Men_independent_train, Men_dependent_train)\n",
        "\n",
        "prediction_RF = model_RF.predict(Men_independent_test)\n",
        "\n",
        "accuracy_RF = accuracy_score(Men_dependent_test, prediction1)\n",
        "conf_matrix = confusion_matrix(Men_dependent_test, prediction1)\n",
        "\n",
        "print(f'Accuracy : {accuracy_RF*100}')\n",
        "print(f'Confusion matrix : \\n{conf_matrix}')"
      ],
      "metadata": {
        "colab": {
          "base_uri": "https://localhost:8080/"
        },
        "id": "QIZXyrZ_96sH",
        "outputId": "96e7febf-80e8-4629-e845-7e9b1aa98454"
      },
      "execution_count": 61,
      "outputs": [
        {
          "output_type": "stream",
          "name": "stderr",
          "text": [
            "<ipython-input-61-de48ad5fe178>:5: DataConversionWarning: A column-vector y was passed when a 1d array was expected. Please change the shape of y to (n_samples,), for example using ravel().\n",
            "  model_RF.fit(Men_independent_train, Men_dependent_train)\n"
          ]
        },
        {
          "output_type": "stream",
          "name": "stdout",
          "text": [
            "Accuracy : 63.213811420982736\n",
            "Confusion matrix : \n",
            "[[ 12   0   0]\n",
            " [  0 244 129]\n",
            " [  0 148 220]]\n"
          ]
        }
      ]
    }
  ]
}